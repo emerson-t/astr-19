{
 "cells": [
  {
   "cell_type": "markdown",
   "id": "f806e580-24b4-4e99-9651-556e41021a1c",
   "metadata": {},
   "source": [
    "# ASTR19 Code Journal 1: Session 6\n",
    "**Instructions:**\n",
    "- Create a Jupyter Notebook where, in separate cells, you define functions that return sin(x) and cos(x).  \n",
    "- Use **Markdown** cells to comment in your Notebook, and describe what each function does. \n",
    "- Create a third Python cell that will tabulate sin(x) and cos(x) using these previously defined functions vs. x\n",
    "- ...where x is tabulated between 0 and 2 with a thousand entries. \n",
    "- Write a fourth Python cell that will use a for loop to print out the first 10 values of x, sin(x), and cos(x) in columns."
   ]
  },
  {
   "cell_type": "code",
   "execution_count": 24,
   "id": "6c5f063c-fb04-4e62-b730-83e034d4e8e9",
   "metadata": {},
   "outputs": [],
   "source": [
    "# import libraries as alias\n",
    "import numpy as np\n",
    "from astropy.table import Table"
   ]
  },
  {
   "cell_type": "markdown",
   "id": "442ed8f5-c94b-4e69-aa11-e4c67cf62f4a",
   "metadata": {},
   "source": [
    "Accepts number x and returns sin of x"
   ]
  },
  {
   "cell_type": "code",
   "execution_count": 13,
   "id": "9e0080f2-09f5-49a4-b2e4-110a4532b6af",
   "metadata": {},
   "outputs": [],
   "source": [
    "def sin_func(x):\n",
    "    answer = np.sin(x)\n",
    "    return answer"
   ]
  },
  {
   "cell_type": "markdown",
   "id": "2cf3677d-fadd-4ca4-8704-35efa7d2bd39",
   "metadata": {},
   "source": [
    "Accepts number x and returns cos of x"
   ]
  },
  {
   "cell_type": "code",
   "execution_count": 18,
   "id": "d358ff3d-6580-4d02-8b37-f361e07f4abb",
   "metadata": {},
   "outputs": [],
   "source": [
    "def cos_func(x):\n",
    "    answer = np.cos(x)\n",
    "    return answer"
   ]
  },
  {
   "cell_type": "code",
   "execution_count": 21,
   "id": "989b296b-30c7-45aa-8e33-9abd128e3965",
   "metadata": {},
   "outputs": [],
   "source": [
    "#define x as 1000 values between 0 and 2pi\n",
    "x = np.linspace(0, 2*np.pi, 1000)"
   ]
  },
  {
   "cell_type": "code",
   "execution_count": 29,
   "id": "936809f8-96a2-48b8-a882-67d176e8f855",
   "metadata": {},
   "outputs": [],
   "source": [
    "data_table = Table()\n",
    "data_table[\"x\"] = x\n",
    "data_table[\"sin(x)\"] = sin_func(x)\n",
    "data_table[\"cos(x)\"] = cos_func(x)\n",
    "\n",
    "data_table[\"x\"].format = \"{:.3f}\"\n",
    "data_table[\"sin(x)\"].format = \"{:.3f}\"\n",
    "data_table[\"cos(x)\"].format = \"{:.3f}\""
   ]
  },
  {
   "cell_type": "code",
   "execution_count": 33,
   "id": "e494dfc0-96b3-420d-b094-8d0d111d9224",
   "metadata": {},
   "outputs": [
    {
     "name": "stdout",
     "output_type": "stream",
     "text": [
      "  x   sin(x) cos(x)\n",
      "----- ------ ------\n",
      "0.000  0.000  1.000\n",
      "  x   sin(x) cos(x)\n",
      "----- ------ ------\n",
      "0.006  0.006  1.000\n",
      "  x   sin(x) cos(x)\n",
      "----- ------ ------\n",
      "0.013  0.013  1.000\n",
      "  x   sin(x) cos(x)\n",
      "----- ------ ------\n",
      "0.019  0.019  1.000\n",
      "  x   sin(x) cos(x)\n",
      "----- ------ ------\n",
      "0.025  0.025  1.000\n",
      "  x   sin(x) cos(x)\n",
      "----- ------ ------\n",
      "0.031  0.031  1.000\n",
      "  x   sin(x) cos(x)\n",
      "----- ------ ------\n",
      "0.038  0.038  0.999\n",
      "  x   sin(x) cos(x)\n",
      "----- ------ ------\n",
      "0.044  0.044  0.999\n",
      "  x   sin(x) cos(x)\n",
      "----- ------ ------\n",
      "0.050  0.050  0.999\n",
      "  x   sin(x) cos(x)\n",
      "----- ------ ------\n",
      "0.057  0.057  0.998\n"
     ]
    }
   ],
   "source": [
    "for i in range(10):\n",
    "    print(data_table[i])"
   ]
  },
  {
   "cell_type": "code",
   "execution_count": 32,
   "id": "601e3ac0-75fb-4c56-b5d4-96556bc3978a",
   "metadata": {},
   "outputs": [
    {
     "name": "stdout",
     "output_type": "stream",
     "text": [
      "  x   sin(x) cos(x)\n",
      "----- ------ ------\n",
      "0.000  0.000  1.000\n",
      "0.006  0.006  1.000\n",
      "0.013  0.013  1.000\n",
      "0.019  0.019  1.000\n",
      "0.025  0.025  1.000\n",
      "0.031  0.031  1.000\n",
      "0.038  0.038  0.999\n",
      "0.044  0.044  0.999\n",
      "0.050  0.050  0.999\n",
      "0.057  0.057  0.998\n"
     ]
    }
   ],
   "source": [
    "print(data_table[0:10])"
   ]
  },
  {
   "cell_type": "code",
   "execution_count": null,
   "id": "c05c728f-8679-4148-99bb-2048201730c1",
   "metadata": {},
   "outputs": [],
   "source": []
  }
 ],
 "metadata": {
  "kernelspec": {
   "display_name": "Python 3 (ipykernel)",
   "language": "python",
   "name": "python3"
  },
  "language_info": {
   "codemirror_mode": {
    "name": "ipython",
    "version": 3
   },
   "file_extension": ".py",
   "mimetype": "text/x-python",
   "name": "python",
   "nbconvert_exporter": "python",
   "pygments_lexer": "ipython3",
   "version": "3.12.1"
  }
 },
 "nbformat": 4,
 "nbformat_minor": 5
}
